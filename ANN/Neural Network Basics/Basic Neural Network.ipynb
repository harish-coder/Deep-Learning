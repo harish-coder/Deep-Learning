{
 "cells": [
  {
   "cell_type": "markdown",
   "metadata": {},
   "source": [
    "# Basics of MLP"
   ]
  },
  {
   "cell_type": "markdown",
   "metadata": {},
   "source": [
    "- Objective: create vanilla neural networks (i.e., Multilayer perceptrons) for simple regression/classification tasks with Keras"
   ]
  },
  {
   "cell_type": "markdown",
   "metadata": {},
   "source": [
    "## MLP Structures\n",
    "- Each MLP model is consisted of one input layer, several hidden layers, and one output layer\n",
    "- Number of neurons in each layer is not limited\n",
    "<img src=\"http://cs231n.github.io/assets/nn1/neural_net.jpeg\" style=\"width: 500px\"/>\n",
    "<br>\n",
    "<center>**MLP with one hidden layer**</center>\n",
    "- Number of input neurons: 3\n",
    "- Number of hidden neurons: 4\n",
    "- Number of output neurons: 2\n"
   ]
  },
  {
   "cell_type": "markdown",
   "metadata": {},
   "source": [
    "<img src=\"http://cs231n.github.io/assets/nn1/neural_net2.jpeg\" style=\"width: 500px\"/>\n",
    "<br>\n",
    "<center>**MLP with two hidden layers**</center>"
   ]
  },
  {
   "cell_type": "markdown",
   "metadata": {},
   "source": [
    "- Number of input neurons: 3\n",
    "- Number of hidden neurons: (4,4)\n",
    "- Number of output neurons: 2"
   ]
  },
  {
   "cell_type": "markdown",
   "metadata": {},
   "source": [
    "## MLP for Regression tasks"
   ]
  },
  {
   "cell_type": "markdown",
   "metadata": {},
   "source": [
    "- When the target (y) is continuous (real)\n",
    "- For loss function and evaluation metric, mean squared error (MSE) is commonly used"
   ]
  },
  {
   "cell_type": "code",
   "execution_count": 2,
   "metadata": {},
   "outputs": [
    {
     "name": "stderr",
     "output_type": "stream",
     "text": [
      "Using TensorFlow backend.\n"
     ]
    }
   ],
   "source": [
    "from keras.datasets import boston_housing"
   ]
  },
  {
   "cell_type": "code",
   "execution_count": 10,
   "metadata": {},
   "outputs": [],
   "source": [
    "(x_train, y_train), (x_test, y_test) = boston_housing.load_data()"
   ]
  },
  {
   "cell_type": "code",
   "execution_count": 12,
   "metadata": {},
   "outputs": [
    {
     "name": "stdout",
     "output_type": "stream",
     "text": [
      "(404, 13)\n",
      "(102, 13)\n",
      "(404,)\n",
      "(102,)\n"
     ]
    }
   ],
   "source": [
    "print(x_train.shape)\n",
    "print(x_test.shape)\n",
    "print(y_train.shape)\n",
    "print(y_test.shape)"
   ]
  },
  {
   "cell_type": "markdown",
   "metadata": {},
   "source": [
    "## Dataset Description\n",
    "- Boston housing dataset has total 506 data instances (404 training & 102 test)\n",
    "- 13 attributes (features) to predict \"the median values of the houses at a location\"\n",
    "- Doc: https://keras.io/datasets/"
   ]
  },
  {
   "cell_type": "code",
   "execution_count": 16,
   "metadata": {},
   "outputs": [],
   "source": [
    "from keras.layers import Activation, Dense\n",
    "from keras.models import Sequential\n",
    "model = Sequential()"
   ]
  },
  {
   "cell_type": "markdown",
   "metadata": {},
   "source": [
    "## 1-1. Adding layers\n",
    "- Keras layers can be added to the model\n",
    "- Adding layers are like stacking lego blocks one by one\n",
    "- Doc: https://keras.io/layers/core/"
   ]
  },
  {
   "cell_type": "code",
   "execution_count": 17,
   "metadata": {},
   "outputs": [],
   "source": [
    "# Keras model with two hidden layer with 10 neurons each \n",
    "model.add(Dense(10, input_shape = (13,)))    # Input layer => input_shape should be explicitly designated\n",
    "model.add(Activation('sigmoid'))\n",
    "model.add(Dense(10))                         # Hidden layer => only output dimension should be designated\n",
    "model.add(Activation('sigmoid'))\n",
    "model.add(Dense(10))                         # Hidden layer => only output dimension should be designated\n",
    "model.add(Activation('sigmoid'))\n",
    "model.add(Dense(1))                          # Output layer => output dimension = 1 since it is regression problem"
   ]
  },
  {
   "cell_type": "code",
   "execution_count": 18,
   "metadata": {},
   "outputs": [],
   "source": [
    "# This is equivalent to the above code block\n",
    "model.add(Dense(10, input_shape = (13,), activation = 'sigmoid'))\n",
    "model.add(Dense(10, activation = 'sigmoid'))\n",
    "model.add(Dense(10, activation = 'sigmoid'))\n",
    "model.add(Dense(1))"
   ]
  },
  {
   "cell_type": "markdown",
   "metadata": {},
   "source": [
    "## 1-2. Model compile\n",
    "- Keras model should be \"compiled\" prior to training\n",
    "- Types of loss (function) and optimizer should be designated\n",
    "- Doc (optimizers): https://keras.io/optimizers/\n",
    "- Doc (losses): https://keras.io/losses/"
   ]
  },
  {
   "cell_type": "code",
   "execution_count": 19,
   "metadata": {},
   "outputs": [],
   "source": [
    "from keras import optimizers"
   ]
  },
  {
   "cell_type": "code",
   "execution_count": 20,
   "metadata": {},
   "outputs": [],
   "source": [
    "sgd = optimizers.SGD(lr = 0.01)    # stochastic gradient descent optimizer"
   ]
  },
  {
   "cell_type": "code",
   "execution_count": 21,
   "metadata": {},
   "outputs": [],
   "source": [
    "model.compile(optimizer = sgd, loss = 'mean_squared_error', metrics = ['mse'])    # for regression problems, mean squared error (MSE) is often employed"
   ]
  },
  {
   "cell_type": "markdown",
   "metadata": {},
   "source": [
    "## Summary of the model"
   ]
  },
  {
   "cell_type": "code",
   "execution_count": 22,
   "metadata": {},
   "outputs": [
    {
     "name": "stdout",
     "output_type": "stream",
     "text": [
      "Model: \"sequential_1\"\n",
      "_________________________________________________________________\n",
      "Layer (type)                 Output Shape              Param #   \n",
      "=================================================================\n",
      "dense_1 (Dense)              (None, 10)                140       \n",
      "_________________________________________________________________\n",
      "activation_1 (Activation)    (None, 10)                0         \n",
      "_________________________________________________________________\n",
      "dense_2 (Dense)              (None, 10)                110       \n",
      "_________________________________________________________________\n",
      "activation_2 (Activation)    (None, 10)                0         \n",
      "_________________________________________________________________\n",
      "dense_3 (Dense)              (None, 10)                110       \n",
      "_________________________________________________________________\n",
      "activation_3 (Activation)    (None, 10)                0         \n",
      "_________________________________________________________________\n",
      "dense_4 (Dense)              (None, 1)                 11        \n",
      "_________________________________________________________________\n",
      "dense_5 (Dense)              (None, 10)                20        \n",
      "_________________________________________________________________\n",
      "dense_6 (Dense)              (None, 10)                110       \n",
      "_________________________________________________________________\n",
      "dense_7 (Dense)              (None, 10)                110       \n",
      "_________________________________________________________________\n",
      "dense_8 (Dense)              (None, 1)                 11        \n",
      "=================================================================\n",
      "Total params: 622\n",
      "Trainable params: 622\n",
      "Non-trainable params: 0\n",
      "_________________________________________________________________\n"
     ]
    }
   ],
   "source": [
    "model.summary()"
   ]
  },
  {
   "cell_type": "markdown",
   "metadata": {},
   "source": [
    "## 2. Training"
   ]
  },
  {
   "cell_type": "markdown",
   "metadata": {},
   "source": [
    "- Training the model with training data provided"
   ]
  },
  {
   "cell_type": "code",
   "execution_count": 24,
   "metadata": {},
   "outputs": [
    {
     "name": "stdout",
     "output_type": "stream",
     "text": [
      "Epoch 1/100\n",
      "404/404 [==============================] - 1s 2ms/step - loss: 327.9146 - mse: 327.9146\n",
      "Epoch 2/100\n",
      "404/404 [==============================] - 0s 52us/step - loss: 95.0720 - mse: 95.0720\n",
      "Epoch 3/100\n",
      "404/404 [==============================] - 0s 47us/step - loss: 84.8646 - mse: 84.8645\n",
      "Epoch 4/100\n",
      "404/404 [==============================] - 0s 45us/step - loss: 85.3727 - mse: 85.3727\n",
      "Epoch 5/100\n",
      "404/404 [==============================] - 0s 42us/step - loss: 85.0978 - mse: 85.0978\n",
      "Epoch 6/100\n",
      "404/404 [==============================] - 0s 42us/step - loss: 84.8347 - mse: 84.8347\n",
      "Epoch 7/100\n",
      "404/404 [==============================] - 0s 45us/step - loss: 85.8435 - mse: 85.8435\n",
      "Epoch 8/100\n",
      "404/404 [==============================] - 0s 42us/step - loss: 85.1108 - mse: 85.1108\n",
      "Epoch 9/100\n",
      "404/404 [==============================] - 0s 40us/step - loss: 85.3562 - mse: 85.3562\n",
      "Epoch 10/100\n",
      "404/404 [==============================] - 0s 40us/step - loss: 85.7313 - mse: 85.7313\n",
      "Epoch 11/100\n",
      "404/404 [==============================] - 0s 42us/step - loss: 86.0475 - mse: 86.0475\n",
      "Epoch 12/100\n",
      "404/404 [==============================] - 0s 40us/step - loss: 84.8170 - mse: 84.8170\n",
      "Epoch 13/100\n",
      "404/404 [==============================] - 0s 45us/step - loss: 84.7994 - mse: 84.7994\n",
      "Epoch 14/100\n",
      "404/404 [==============================] - 0s 40us/step - loss: 85.0001 - mse: 85.0001\n",
      "Epoch 15/100\n",
      "404/404 [==============================] - 0s 40us/step - loss: 84.9744 - mse: 84.9744\n",
      "Epoch 16/100\n",
      "404/404 [==============================] - 0s 37us/step - loss: 85.1638 - mse: 85.1638\n",
      "Epoch 17/100\n",
      "404/404 [==============================] - 0s 45us/step - loss: 85.1284 - mse: 85.1284\n",
      "Epoch 18/100\n",
      "404/404 [==============================] - 0s 45us/step - loss: 85.4545 - mse: 85.4545\n",
      "Epoch 19/100\n",
      "404/404 [==============================] - 0s 42us/step - loss: 84.7571 - mse: 84.7571\n",
      "Epoch 20/100\n",
      "404/404 [==============================] - 0s 45us/step - loss: 85.2992 - mse: 85.2992\n",
      "Epoch 21/100\n",
      "404/404 [==============================] - 0s 40us/step - loss: 84.8654 - mse: 84.8654\n",
      "Epoch 22/100\n",
      "404/404 [==============================] - 0s 42us/step - loss: 85.3398 - mse: 85.3398\n",
      "Epoch 23/100\n",
      "404/404 [==============================] - 0s 40us/step - loss: 84.8827 - mse: 84.8827\n",
      "Epoch 24/100\n",
      "404/404 [==============================] - 0s 42us/step - loss: 84.7059 - mse: 84.7059\n",
      "Epoch 25/100\n",
      "404/404 [==============================] - 0s 40us/step - loss: 85.1367 - mse: 85.1367\n",
      "Epoch 26/100\n",
      "404/404 [==============================] - 0s 45us/step - loss: 85.5982 - mse: 85.5982\n",
      "Epoch 27/100\n",
      "404/404 [==============================] - 0s 37us/step - loss: 85.2914 - mse: 85.2914\n",
      "Epoch 28/100\n",
      "404/404 [==============================] - 0s 40us/step - loss: 85.9169 - mse: 85.9169\n",
      "Epoch 29/100\n",
      "404/404 [==============================] - 0s 45us/step - loss: 86.0633 - mse: 86.0633\n",
      "Epoch 30/100\n",
      "404/404 [==============================] - 0s 42us/step - loss: 84.8364 - mse: 84.8364\n",
      "Epoch 31/100\n",
      "404/404 [==============================] - 0s 40us/step - loss: 85.0326 - mse: 85.0326\n",
      "Epoch 32/100\n",
      "404/404 [==============================] - 0s 50us/step - loss: 84.8001 - mse: 84.8001\n",
      "Epoch 33/100\n",
      "404/404 [==============================] - 0s 45us/step - loss: 85.0045 - mse: 85.0045\n",
      "Epoch 34/100\n",
      "404/404 [==============================] - 0s 42us/step - loss: 85.7533 - mse: 85.7533\n",
      "Epoch 35/100\n",
      "404/404 [==============================] - ETA: 0s - loss: 77.3712 - mse: 77.371 - 0s 49us/step - loss: 85.7308 - mse: 85.7308\n",
      "Epoch 36/100\n",
      "404/404 [==============================] - 0s 45us/step - loss: 84.9744 - mse: 84.9744\n",
      "Epoch 37/100\n",
      "404/404 [==============================] - 0s 45us/step - loss: 84.9410 - mse: 84.9410\n",
      "Epoch 38/100\n",
      "404/404 [==============================] - 0s 45us/step - loss: 85.2995 - mse: 85.2995\n",
      "Epoch 39/100\n",
      "404/404 [==============================] - 0s 50us/step - loss: 85.3123 - mse: 85.3123\n",
      "Epoch 40/100\n",
      "404/404 [==============================] - 0s 49us/step - loss: 85.8882 - mse: 85.8882\n",
      "Epoch 41/100\n",
      "404/404 [==============================] - 0s 45us/step - loss: 85.3330 - mse: 85.3330\n",
      "Epoch 42/100\n",
      "404/404 [==============================] - 0s 57us/step - loss: 85.0331 - mse: 85.0331\n",
      "Epoch 43/100\n",
      "404/404 [==============================] - 0s 50us/step - loss: 84.7064 - mse: 84.7064\n",
      "Epoch 44/100\n",
      "404/404 [==============================] - 0s 42us/step - loss: 85.0953 - mse: 85.0953\n",
      "Epoch 45/100\n",
      "404/404 [==============================] - ETA: 0s - loss: 94.2772 - mse: 94.277 - 0s 54us/step - loss: 85.0220 - mse: 85.0220\n",
      "Epoch 46/100\n",
      "404/404 [==============================] - 0s 54us/step - loss: 85.1314 - mse: 85.1314\n",
      "Epoch 47/100\n",
      "404/404 [==============================] - 0s 47us/step - loss: 84.7625 - mse: 84.7625\n",
      "Epoch 48/100\n",
      "404/404 [==============================] - 0s 47us/step - loss: 84.9206 - mse: 84.9206\n",
      "Epoch 49/100\n",
      "404/404 [==============================] - 0s 45us/step - loss: 85.7648 - mse: 85.7648\n",
      "Epoch 50/100\n",
      "404/404 [==============================] - 0s 45us/step - loss: 84.7028 - mse: 84.7028\n",
      "Epoch 51/100\n",
      "404/404 [==============================] - 0s 52us/step - loss: 85.3046 - mse: 85.3046\n",
      "Epoch 52/100\n",
      "404/404 [==============================] - 0s 54us/step - loss: 85.0232 - mse: 85.0232\n",
      "Epoch 53/100\n",
      "404/404 [==============================] - 0s 49us/step - loss: 85.1534 - mse: 85.1534\n",
      "Epoch 54/100\n",
      "404/404 [==============================] - 0s 45us/step - loss: 85.0682 - mse: 85.0681\n",
      "Epoch 55/100\n",
      "404/404 [==============================] - 0s 47us/step - loss: 85.4845 - mse: 85.4845\n",
      "Epoch 56/100\n",
      "404/404 [==============================] - 0s 47us/step - loss: 85.1237 - mse: 85.1237\n",
      "Epoch 57/100\n",
      "404/404 [==============================] - 0s 45us/step - loss: 85.0182 - mse: 85.0182\n",
      "Epoch 58/100\n",
      "404/404 [==============================] - 0s 42us/step - loss: 85.1523 - mse: 85.1523\n",
      "Epoch 59/100\n",
      "404/404 [==============================] - 0s 42us/step - loss: 85.3284 - mse: 85.3284\n",
      "Epoch 60/100\n",
      "404/404 [==============================] - 0s 42us/step - loss: 85.0132 - mse: 85.0132\n",
      "Epoch 61/100\n",
      "404/404 [==============================] - 0s 40us/step - loss: 85.7356 - mse: 85.7356\n",
      "Epoch 62/100\n",
      "404/404 [==============================] - 0s 40us/step - loss: 84.7424 - mse: 84.7424\n",
      "Epoch 63/100\n",
      "404/404 [==============================] - 0s 45us/step - loss: 85.1840 - mse: 85.1841\n",
      "Epoch 64/100\n",
      "404/404 [==============================] - 0s 42us/step - loss: 85.5104 - mse: 85.5104\n",
      "Epoch 65/100\n",
      "404/404 [==============================] - 0s 42us/step - loss: 85.0057 - mse: 85.0057\n",
      "Epoch 66/100\n",
      "404/404 [==============================] - 0s 45us/step - loss: 84.6889 - mse: 84.6889\n",
      "Epoch 67/100\n",
      "404/404 [==============================] - 0s 42us/step - loss: 84.9854 - mse: 84.9854\n",
      "Epoch 68/100\n",
      "404/404 [==============================] - 0s 47us/step - loss: 85.1271 - mse: 85.1271\n",
      "Epoch 69/100\n",
      "404/404 [==============================] - 0s 42us/step - loss: 85.0574 - mse: 85.0574\n",
      "Epoch 70/100\n",
      "404/404 [==============================] - 0s 45us/step - loss: 85.0155 - mse: 85.0155\n",
      "Epoch 71/100\n",
      "404/404 [==============================] - 0s 45us/step - loss: 85.3098 - mse: 85.3098\n",
      "Epoch 72/100\n",
      "404/404 [==============================] - 0s 47us/step - loss: 84.9268 - mse: 84.9268\n",
      "Epoch 73/100\n",
      "404/404 [==============================] - 0s 42us/step - loss: 85.2081 - mse: 85.2081\n",
      "Epoch 74/100\n",
      "404/404 [==============================] - 0s 45us/step - loss: 85.2023 - mse: 85.2023\n",
      "Epoch 75/100\n",
      "404/404 [==============================] - 0s 47us/step - loss: 84.8203 - mse: 84.8203\n",
      "Epoch 76/100\n",
      "404/404 [==============================] - 0s 47us/step - loss: 85.4372 - mse: 85.4371\n",
      "Epoch 77/100\n",
      "404/404 [==============================] - 0s 47us/step - loss: 85.5919 - mse: 85.5919\n",
      "Epoch 78/100\n",
      "404/404 [==============================] - 0s 42us/step - loss: 85.8866 - mse: 85.8866\n",
      "Epoch 79/100\n",
      "404/404 [==============================] - 0s 45us/step - loss: 85.1871 - mse: 85.1871\n",
      "Epoch 80/100\n",
      "404/404 [==============================] - 0s 54us/step - loss: 84.9574 - mse: 84.9574\n",
      "Epoch 81/100\n",
      "404/404 [==============================] - 0s 92us/step - loss: 85.5797 - mse: 85.5797\n",
      "Epoch 82/100\n"
     ]
    },
    {
     "name": "stdout",
     "output_type": "stream",
     "text": [
      "404/404 [==============================] - 0s 57us/step - loss: 84.9835 - mse: 84.9835\n",
      "Epoch 83/100\n",
      "404/404 [==============================] - 0s 50us/step - loss: 85.6016 - mse: 85.6016\n",
      "Epoch 84/100\n",
      "404/404 [==============================] - 0s 54us/step - loss: 86.2915 - mse: 86.2915\n",
      "Epoch 85/100\n",
      "404/404 [==============================] - 0s 57us/step - loss: 84.6994 - mse: 84.6994\n",
      "Epoch 86/100\n",
      "404/404 [==============================] - 0s 64us/step - loss: 85.0582 - mse: 85.0582\n",
      "Epoch 87/100\n",
      "404/404 [==============================] - 0s 59us/step - loss: 84.9033 - mse: 84.9033\n",
      "Epoch 88/100\n",
      "404/404 [==============================] - 0s 42us/step - loss: 85.3963 - mse: 85.3963\n",
      "Epoch 89/100\n",
      "404/404 [==============================] - 0s 42us/step - loss: 86.1413 - mse: 86.1413\n",
      "Epoch 90/100\n",
      "404/404 [==============================] - 0s 40us/step - loss: 85.1318 - mse: 85.1318\n",
      "Epoch 91/100\n",
      "404/404 [==============================] - 0s 40us/step - loss: 84.6707 - mse: 84.6707\n",
      "Epoch 92/100\n",
      "404/404 [==============================] - 0s 42us/step - loss: 84.9634 - mse: 84.9634\n",
      "Epoch 93/100\n",
      "404/404 [==============================] - 0s 40us/step - loss: 84.7971 - mse: 84.7971\n",
      "Epoch 94/100\n",
      "404/404 [==============================] - 0s 42us/step - loss: 86.5625 - mse: 86.5625\n",
      "Epoch 95/100\n",
      "404/404 [==============================] - 0s 42us/step - loss: 85.8234 - mse: 85.8234\n",
      "Epoch 96/100\n",
      "404/404 [==============================] - 0s 42us/step - loss: 84.8095 - mse: 84.8095\n",
      "Epoch 97/100\n",
      "404/404 [==============================] - 0s 40us/step - loss: 84.9175 - mse: 84.9175\n",
      "Epoch 98/100\n",
      "404/404 [==============================] - 0s 40us/step - loss: 85.0813 - mse: 85.0813\n",
      "Epoch 99/100\n",
      "404/404 [==============================] - 0s 77us/step - loss: 85.3222 - mse: 85.3222\n",
      "Epoch 100/100\n",
      "404/404 [==============================] - 0s 50us/step - loss: 84.7390 - mse: 84.7390\n"
     ]
    },
    {
     "data": {
      "text/plain": [
       "<keras.callbacks.callbacks.History at 0x2548a694d48>"
      ]
     },
     "execution_count": 24,
     "metadata": {},
     "output_type": "execute_result"
    }
   ],
   "source": [
    "model.fit(x_train, y_train, batch_size = 50, epochs = 100, verbose = 1)"
   ]
  },
  {
   "cell_type": "markdown",
   "metadata": {},
   "source": [
    "## 3. Evaluation\n",
    "- Keras model can be evaluated with evaluate() function\n",
    "- Evaluation results are contained in a list\n",
    "- Doc (metrics): https://keras.io/metrics/"
   ]
  },
  {
   "cell_type": "code",
   "execution_count": 26,
   "metadata": {},
   "outputs": [
    {
     "name": "stdout",
     "output_type": "stream",
     "text": [
      "102/102 [==============================] - 0s 1ms/step\n"
     ]
    }
   ],
   "source": [
    "results = model.evaluate(x_test, y_test)"
   ]
  },
  {
   "cell_type": "code",
   "execution_count": 27,
   "metadata": {},
   "outputs": [
    {
     "name": "stdout",
     "output_type": "stream",
     "text": [
      "['loss', 'mse']\n",
      "[83.83948501886105, 83.8394775390625]\n"
     ]
    }
   ],
   "source": [
    "print(model.metrics_names)     # list of metric names the model is employing\n",
    "print(results)                 # actual figure of metrics computed"
   ]
  },
  {
   "cell_type": "code",
   "execution_count": 28,
   "metadata": {},
   "outputs": [
    {
     "name": "stdout",
     "output_type": "stream",
     "text": [
      "loss:  83.83948501886105\n",
      "mse:  83.8394775390625\n"
     ]
    }
   ],
   "source": [
    "print('loss: ', results[0])\n",
    "print('mse: ', results[1])"
   ]
  },
  {
   "cell_type": "markdown",
   "metadata": {},
   "source": [
    "## MLP for classification tasks"
   ]
  },
  {
   "cell_type": "markdown",
   "metadata": {},
   "source": [
    "- When the target (y) is discrete (categorical)\n",
    "- For loss function, cross-entropy is used and for evaluation metric, accuracy is commonly used"
   ]
  },
  {
   "cell_type": "code",
   "execution_count": 29,
   "metadata": {},
   "outputs": [],
   "source": [
    "from sklearn.datasets import load_breast_cancer\n",
    "from sklearn.model_selection import train_test_split"
   ]
  },
  {
   "cell_type": "code",
   "execution_count": 30,
   "metadata": {},
   "outputs": [],
   "source": [
    "whole_data = load_breast_cancer()"
   ]
  },
  {
   "cell_type": "code",
   "execution_count": 33,
   "metadata": {},
   "outputs": [
    {
     "data": {
      "text/plain": [
       "{'data': array([[1.799e+01, 1.038e+01, 1.228e+02, ..., 2.654e-01, 4.601e-01,\n",
       "         1.189e-01],\n",
       "        [2.057e+01, 1.777e+01, 1.329e+02, ..., 1.860e-01, 2.750e-01,\n",
       "         8.902e-02],\n",
       "        [1.969e+01, 2.125e+01, 1.300e+02, ..., 2.430e-01, 3.613e-01,\n",
       "         8.758e-02],\n",
       "        ...,\n",
       "        [1.660e+01, 2.808e+01, 1.083e+02, ..., 1.418e-01, 2.218e-01,\n",
       "         7.820e-02],\n",
       "        [2.060e+01, 2.933e+01, 1.401e+02, ..., 2.650e-01, 4.087e-01,\n",
       "         1.240e-01],\n",
       "        [7.760e+00, 2.454e+01, 4.792e+01, ..., 0.000e+00, 2.871e-01,\n",
       "         7.039e-02]]),\n",
       " 'target': array([0, 0, 0, 0, 0, 0, 0, 0, 0, 0, 0, 0, 0, 0, 0, 0, 0, 0, 0, 1, 1, 1,\n",
       "        0, 0, 0, 0, 0, 0, 0, 0, 0, 0, 0, 0, 0, 0, 0, 1, 0, 0, 0, 0, 0, 0,\n",
       "        0, 0, 1, 0, 1, 1, 1, 1, 1, 0, 0, 1, 0, 0, 1, 1, 1, 1, 0, 1, 0, 0,\n",
       "        1, 1, 1, 1, 0, 1, 0, 0, 1, 0, 1, 0, 0, 1, 1, 1, 0, 0, 1, 0, 0, 0,\n",
       "        1, 1, 1, 0, 1, 1, 0, 0, 1, 1, 1, 0, 0, 1, 1, 1, 1, 0, 1, 1, 0, 1,\n",
       "        1, 1, 1, 1, 1, 1, 1, 0, 0, 0, 1, 0, 0, 1, 1, 1, 0, 0, 1, 0, 1, 0,\n",
       "        0, 1, 0, 0, 1, 1, 0, 1, 1, 0, 1, 1, 1, 1, 0, 1, 1, 1, 1, 1, 1, 1,\n",
       "        1, 1, 0, 1, 1, 1, 1, 0, 0, 1, 0, 1, 1, 0, 0, 1, 1, 0, 0, 1, 1, 1,\n",
       "        1, 0, 1, 1, 0, 0, 0, 1, 0, 1, 0, 1, 1, 1, 0, 1, 1, 0, 0, 1, 0, 0,\n",
       "        0, 0, 1, 0, 0, 0, 1, 0, 1, 0, 1, 1, 0, 1, 0, 0, 0, 0, 1, 1, 0, 0,\n",
       "        1, 1, 1, 0, 1, 1, 1, 1, 1, 0, 0, 1, 1, 0, 1, 1, 0, 0, 1, 0, 1, 1,\n",
       "        1, 1, 0, 1, 1, 1, 1, 1, 0, 1, 0, 0, 0, 0, 0, 0, 0, 0, 0, 0, 0, 0,\n",
       "        0, 0, 1, 1, 1, 1, 1, 1, 0, 1, 0, 1, 1, 0, 1, 1, 0, 1, 0, 0, 1, 1,\n",
       "        1, 1, 1, 1, 1, 1, 1, 1, 1, 1, 1, 0, 1, 1, 0, 1, 0, 1, 1, 1, 1, 1,\n",
       "        1, 1, 1, 1, 1, 1, 1, 1, 1, 0, 1, 1, 1, 0, 1, 0, 1, 1, 1, 1, 0, 0,\n",
       "        0, 1, 1, 1, 1, 0, 1, 0, 1, 0, 1, 1, 1, 0, 1, 1, 1, 1, 1, 1, 1, 0,\n",
       "        0, 0, 1, 1, 1, 1, 1, 1, 1, 1, 1, 1, 1, 0, 0, 1, 0, 0, 0, 1, 0, 0,\n",
       "        1, 1, 1, 1, 1, 0, 1, 1, 1, 1, 1, 0, 1, 1, 1, 0, 1, 1, 0, 0, 1, 1,\n",
       "        1, 1, 1, 1, 0, 1, 1, 1, 1, 1, 1, 1, 0, 1, 1, 1, 1, 1, 0, 1, 1, 0,\n",
       "        1, 1, 1, 1, 1, 1, 1, 1, 1, 1, 1, 1, 0, 1, 0, 0, 1, 0, 1, 1, 1, 1,\n",
       "        1, 0, 1, 1, 0, 1, 0, 1, 1, 0, 1, 0, 1, 1, 1, 1, 1, 1, 1, 1, 0, 0,\n",
       "        1, 1, 1, 1, 1, 1, 0, 1, 1, 1, 1, 1, 1, 1, 1, 1, 1, 0, 1, 1, 1, 1,\n",
       "        1, 1, 1, 0, 1, 0, 1, 1, 0, 1, 1, 1, 1, 1, 0, 0, 1, 0, 1, 0, 1, 1,\n",
       "        1, 1, 1, 0, 1, 1, 0, 1, 0, 1, 0, 0, 1, 1, 1, 0, 1, 1, 1, 1, 1, 1,\n",
       "        1, 1, 1, 1, 1, 0, 1, 0, 0, 1, 1, 1, 1, 1, 1, 1, 1, 1, 1, 1, 1, 1,\n",
       "        1, 1, 1, 1, 1, 1, 1, 1, 1, 1, 1, 1, 0, 0, 0, 0, 0, 0, 1]),\n",
       " 'target_names': array(['malignant', 'benign'], dtype='<U9'),\n",
       " 'DESCR': '.. _breast_cancer_dataset:\\n\\nBreast cancer wisconsin (diagnostic) dataset\\n--------------------------------------------\\n\\n**Data Set Characteristics:**\\n\\n    :Number of Instances: 569\\n\\n    :Number of Attributes: 30 numeric, predictive attributes and the class\\n\\n    :Attribute Information:\\n        - radius (mean of distances from center to points on the perimeter)\\n        - texture (standard deviation of gray-scale values)\\n        - perimeter\\n        - area\\n        - smoothness (local variation in radius lengths)\\n        - compactness (perimeter^2 / area - 1.0)\\n        - concavity (severity of concave portions of the contour)\\n        - concave points (number of concave portions of the contour)\\n        - symmetry \\n        - fractal dimension (\"coastline approximation\" - 1)\\n\\n        The mean, standard error, and \"worst\" or largest (mean of the three\\n        largest values) of these features were computed for each image,\\n        resulting in 30 features.  For instance, field 3 is Mean Radius, field\\n        13 is Radius SE, field 23 is Worst Radius.\\n\\n        - class:\\n                - WDBC-Malignant\\n                - WDBC-Benign\\n\\n    :Summary Statistics:\\n\\n    ===================================== ====== ======\\n                                           Min    Max\\n    ===================================== ====== ======\\n    radius (mean):                        6.981  28.11\\n    texture (mean):                       9.71   39.28\\n    perimeter (mean):                     43.79  188.5\\n    area (mean):                          143.5  2501.0\\n    smoothness (mean):                    0.053  0.163\\n    compactness (mean):                   0.019  0.345\\n    concavity (mean):                     0.0    0.427\\n    concave points (mean):                0.0    0.201\\n    symmetry (mean):                      0.106  0.304\\n    fractal dimension (mean):             0.05   0.097\\n    radius (standard error):              0.112  2.873\\n    texture (standard error):             0.36   4.885\\n    perimeter (standard error):           0.757  21.98\\n    area (standard error):                6.802  542.2\\n    smoothness (standard error):          0.002  0.031\\n    compactness (standard error):         0.002  0.135\\n    concavity (standard error):           0.0    0.396\\n    concave points (standard error):      0.0    0.053\\n    symmetry (standard error):            0.008  0.079\\n    fractal dimension (standard error):   0.001  0.03\\n    radius (worst):                       7.93   36.04\\n    texture (worst):                      12.02  49.54\\n    perimeter (worst):                    50.41  251.2\\n    area (worst):                         185.2  4254.0\\n    smoothness (worst):                   0.071  0.223\\n    compactness (worst):                  0.027  1.058\\n    concavity (worst):                    0.0    1.252\\n    concave points (worst):               0.0    0.291\\n    symmetry (worst):                     0.156  0.664\\n    fractal dimension (worst):            0.055  0.208\\n    ===================================== ====== ======\\n\\n    :Missing Attribute Values: None\\n\\n    :Class Distribution: 212 - Malignant, 357 - Benign\\n\\n    :Creator:  Dr. William H. Wolberg, W. Nick Street, Olvi L. Mangasarian\\n\\n    :Donor: Nick Street\\n\\n    :Date: November, 1995\\n\\nThis is a copy of UCI ML Breast Cancer Wisconsin (Diagnostic) datasets.\\nhttps://goo.gl/U2Uwz2\\n\\nFeatures are computed from a digitized image of a fine needle\\naspirate (FNA) of a breast mass.  They describe\\ncharacteristics of the cell nuclei present in the image.\\n\\nSeparating plane described above was obtained using\\nMultisurface Method-Tree (MSM-T) [K. P. Bennett, \"Decision Tree\\nConstruction Via Linear Programming.\" Proceedings of the 4th\\nMidwest Artificial Intelligence and Cognitive Science Society,\\npp. 97-101, 1992], a classification method which uses linear\\nprogramming to construct a decision tree.  Relevant features\\nwere selected using an exhaustive search in the space of 1-4\\nfeatures and 1-3 separating planes.\\n\\nThe actual linear program used to obtain the separating plane\\nin the 3-dimensional space is that described in:\\n[K. P. Bennett and O. L. Mangasarian: \"Robust Linear\\nProgramming Discrimination of Two Linearly Inseparable Sets\",\\nOptimization Methods and Software 1, 1992, 23-34].\\n\\nThis database is also available through the UW CS ftp server:\\n\\nftp ftp.cs.wisc.edu\\ncd math-prog/cpo-dataset/machine-learn/WDBC/\\n\\n.. topic:: References\\n\\n   - W.N. Street, W.H. Wolberg and O.L. Mangasarian. Nuclear feature extraction \\n     for breast tumor diagnosis. IS&T/SPIE 1993 International Symposium on \\n     Electronic Imaging: Science and Technology, volume 1905, pages 861-870,\\n     San Jose, CA, 1993.\\n   - O.L. Mangasarian, W.N. Street and W.H. Wolberg. Breast cancer diagnosis and \\n     prognosis via linear programming. Operations Research, 43(4), pages 570-577, \\n     July-August 1995.\\n   - W.H. Wolberg, W.N. Street, and O.L. Mangasarian. Machine learning techniques\\n     to diagnose breast cancer from fine-needle aspirates. Cancer Letters 77 (1994) \\n     163-171.',\n",
       " 'feature_names': array(['mean radius', 'mean texture', 'mean perimeter', 'mean area',\n",
       "        'mean smoothness', 'mean compactness', 'mean concavity',\n",
       "        'mean concave points', 'mean symmetry', 'mean fractal dimension',\n",
       "        'radius error', 'texture error', 'perimeter error', 'area error',\n",
       "        'smoothness error', 'compactness error', 'concavity error',\n",
       "        'concave points error', 'symmetry error',\n",
       "        'fractal dimension error', 'worst radius', 'worst texture',\n",
       "        'worst perimeter', 'worst area', 'worst smoothness',\n",
       "        'worst compactness', 'worst concavity', 'worst concave points',\n",
       "        'worst symmetry', 'worst fractal dimension'], dtype='<U23'),\n",
       " 'filename': 'C:\\\\Users\\\\z023208\\\\AppData\\\\Local\\\\Continuum\\\\anaconda3\\\\lib\\\\site-packages\\\\sklearn\\\\datasets\\\\data\\\\breast_cancer.csv'}"
      ]
     },
     "execution_count": 33,
     "metadata": {},
     "output_type": "execute_result"
    }
   ],
   "source": [
    "whole_data"
   ]
  },
  {
   "cell_type": "code",
   "execution_count": 34,
   "metadata": {},
   "outputs": [],
   "source": [
    "x_data = whole_data.data\n",
    "y_data = whole_data.target"
   ]
  },
  {
   "cell_type": "code",
   "execution_count": 35,
   "metadata": {},
   "outputs": [
    {
     "data": {
      "text/plain": [
       "array([[1.799e+01, 1.038e+01, 1.228e+02, ..., 2.654e-01, 4.601e-01,\n",
       "        1.189e-01],\n",
       "       [2.057e+01, 1.777e+01, 1.329e+02, ..., 1.860e-01, 2.750e-01,\n",
       "        8.902e-02],\n",
       "       [1.969e+01, 2.125e+01, 1.300e+02, ..., 2.430e-01, 3.613e-01,\n",
       "        8.758e-02],\n",
       "       ...,\n",
       "       [1.660e+01, 2.808e+01, 1.083e+02, ..., 1.418e-01, 2.218e-01,\n",
       "        7.820e-02],\n",
       "       [2.060e+01, 2.933e+01, 1.401e+02, ..., 2.650e-01, 4.087e-01,\n",
       "        1.240e-01],\n",
       "       [7.760e+00, 2.454e+01, 4.792e+01, ..., 0.000e+00, 2.871e-01,\n",
       "        7.039e-02]])"
      ]
     },
     "execution_count": 35,
     "metadata": {},
     "output_type": "execute_result"
    }
   ],
   "source": [
    "x_data"
   ]
  },
  {
   "cell_type": "code",
   "execution_count": 36,
   "metadata": {},
   "outputs": [
    {
     "data": {
      "text/plain": [
       "array([0, 0, 0, 0, 0, 0, 0, 0, 0, 0, 0, 0, 0, 0, 0, 0, 0, 0, 0, 1, 1, 1,\n",
       "       0, 0, 0, 0, 0, 0, 0, 0, 0, 0, 0, 0, 0, 0, 0, 1, 0, 0, 0, 0, 0, 0,\n",
       "       0, 0, 1, 0, 1, 1, 1, 1, 1, 0, 0, 1, 0, 0, 1, 1, 1, 1, 0, 1, 0, 0,\n",
       "       1, 1, 1, 1, 0, 1, 0, 0, 1, 0, 1, 0, 0, 1, 1, 1, 0, 0, 1, 0, 0, 0,\n",
       "       1, 1, 1, 0, 1, 1, 0, 0, 1, 1, 1, 0, 0, 1, 1, 1, 1, 0, 1, 1, 0, 1,\n",
       "       1, 1, 1, 1, 1, 1, 1, 0, 0, 0, 1, 0, 0, 1, 1, 1, 0, 0, 1, 0, 1, 0,\n",
       "       0, 1, 0, 0, 1, 1, 0, 1, 1, 0, 1, 1, 1, 1, 0, 1, 1, 1, 1, 1, 1, 1,\n",
       "       1, 1, 0, 1, 1, 1, 1, 0, 0, 1, 0, 1, 1, 0, 0, 1, 1, 0, 0, 1, 1, 1,\n",
       "       1, 0, 1, 1, 0, 0, 0, 1, 0, 1, 0, 1, 1, 1, 0, 1, 1, 0, 0, 1, 0, 0,\n",
       "       0, 0, 1, 0, 0, 0, 1, 0, 1, 0, 1, 1, 0, 1, 0, 0, 0, 0, 1, 1, 0, 0,\n",
       "       1, 1, 1, 0, 1, 1, 1, 1, 1, 0, 0, 1, 1, 0, 1, 1, 0, 0, 1, 0, 1, 1,\n",
       "       1, 1, 0, 1, 1, 1, 1, 1, 0, 1, 0, 0, 0, 0, 0, 0, 0, 0, 0, 0, 0, 0,\n",
       "       0, 0, 1, 1, 1, 1, 1, 1, 0, 1, 0, 1, 1, 0, 1, 1, 0, 1, 0, 0, 1, 1,\n",
       "       1, 1, 1, 1, 1, 1, 1, 1, 1, 1, 1, 0, 1, 1, 0, 1, 0, 1, 1, 1, 1, 1,\n",
       "       1, 1, 1, 1, 1, 1, 1, 1, 1, 0, 1, 1, 1, 0, 1, 0, 1, 1, 1, 1, 0, 0,\n",
       "       0, 1, 1, 1, 1, 0, 1, 0, 1, 0, 1, 1, 1, 0, 1, 1, 1, 1, 1, 1, 1, 0,\n",
       "       0, 0, 1, 1, 1, 1, 1, 1, 1, 1, 1, 1, 1, 0, 0, 1, 0, 0, 0, 1, 0, 0,\n",
       "       1, 1, 1, 1, 1, 0, 1, 1, 1, 1, 1, 0, 1, 1, 1, 0, 1, 1, 0, 0, 1, 1,\n",
       "       1, 1, 1, 1, 0, 1, 1, 1, 1, 1, 1, 1, 0, 1, 1, 1, 1, 1, 0, 1, 1, 0,\n",
       "       1, 1, 1, 1, 1, 1, 1, 1, 1, 1, 1, 1, 0, 1, 0, 0, 1, 0, 1, 1, 1, 1,\n",
       "       1, 0, 1, 1, 0, 1, 0, 1, 1, 0, 1, 0, 1, 1, 1, 1, 1, 1, 1, 1, 0, 0,\n",
       "       1, 1, 1, 1, 1, 1, 0, 1, 1, 1, 1, 1, 1, 1, 1, 1, 1, 0, 1, 1, 1, 1,\n",
       "       1, 1, 1, 0, 1, 0, 1, 1, 0, 1, 1, 1, 1, 1, 0, 0, 1, 0, 1, 0, 1, 1,\n",
       "       1, 1, 1, 0, 1, 1, 0, 1, 0, 1, 0, 0, 1, 1, 1, 0, 1, 1, 1, 1, 1, 1,\n",
       "       1, 1, 1, 1, 1, 0, 1, 0, 0, 1, 1, 1, 1, 1, 1, 1, 1, 1, 1, 1, 1, 1,\n",
       "       1, 1, 1, 1, 1, 1, 1, 1, 1, 1, 1, 1, 0, 0, 0, 0, 0, 0, 1])"
      ]
     },
     "execution_count": 36,
     "metadata": {},
     "output_type": "execute_result"
    }
   ],
   "source": [
    "y_data"
   ]
  },
  {
   "cell_type": "code",
   "execution_count": 38,
   "metadata": {},
   "outputs": [
    {
     "name": "stdout",
     "output_type": "stream",
     "text": [
      "(398, 30)\n",
      "(171, 30)\n",
      "(398,)\n",
      "(171,)\n"
     ]
    }
   ],
   "source": [
    "print(x_train.shape)\n",
    "print(x_test.shape)\n",
    "print(y_train.shape)\n",
    "print(y_test.shape)"
   ]
  },
  {
   "cell_type": "markdown",
   "metadata": {},
   "source": [
    "## Dataset Description\n",
    "- Breast cancer dataset has total 569 data instances (212 malign, 357 benign instances)\n",
    "- 30 attributes (features) to predict the binary class (M/B)\n",
    "- Doc: http://scikit-learn.org/stable/modules/generated/sklearn.datasets.load_breast_cancer.html#sklearn.datasets.load_breast_cancer"
   ]
  },
  {
   "cell_type": "code",
   "execution_count": 37,
   "metadata": {},
   "outputs": [],
   "source": [
    "x_train, x_test, y_train, y_test = train_test_split(x_data, y_data, test_size = 0.3, random_state = 7)"
   ]
  },
  {
   "cell_type": "markdown",
   "metadata": {},
   "source": [
    "# 1. Creating a model\n",
    "- Same with regression model at the outset"
   ]
  },
  {
   "cell_type": "code",
   "execution_count": 39,
   "metadata": {},
   "outputs": [],
   "source": [
    "from keras.models import Sequential"
   ]
  },
  {
   "cell_type": "code",
   "execution_count": 40,
   "metadata": {},
   "outputs": [],
   "source": [
    "model = Sequential()"
   ]
  },
  {
   "cell_type": "markdown",
   "metadata": {},
   "source": [
    "# 1-1. Adding layers\n",
    "- Keras layers can be added to the model\n",
    "- Adding layers are like stacking lego blocks one by one\n",
    "- It should be noted that as this is a classification problem, sigmoid layer (softmax for multi-class problems) should be added\n",
    "- Doc: https://keras.io/layers/core/"
   ]
  },
  {
   "cell_type": "code",
   "execution_count": 41,
   "metadata": {},
   "outputs": [],
   "source": [
    "# Keras model with two hidden layer with 10 neurons each \n",
    "model.add(Dense(10, input_shape = (30,)))    # Input layer => input_shape should be explicitly designated\n",
    "model.add(Activation('sigmoid'))\n",
    "model.add(Dense(10))                         # Hidden layer => only output dimension should be designated\n",
    "model.add(Activation('sigmoid'))\n",
    "model.add(Dense(10))                         # Hidden layer => only output dimension should be designated\n",
    "model.add(Activation('sigmoid'))\n",
    "model.add(Dense(1))                          # Output layer => output dimension = 1 since it is regression problem\n",
    "model.add(Activation('sigmoid'))"
   ]
  },
  {
   "cell_type": "code",
   "execution_count": 43,
   "metadata": {},
   "outputs": [],
   "source": [
    "# This is equivalent to the above code block\n",
    "model.add(Dense(10, input_shape = (13,), activation = 'sigmoid'))\n",
    "model.add(Dense(10, activation = 'sigmoid'))\n",
    "model.add(Dense(10, activation = 'sigmoid'))\n",
    "model.add(Dense(1, activation = 'sigmoid'))"
   ]
  },
  {
   "cell_type": "markdown",
   "metadata": {},
   "source": [
    "# 1-2. Model compile\n",
    "- Keras model should be \"compiled\" prior to training\n",
    "- Types of loss (function) and optimizer should be designated\n",
    "- Doc (optimizers): https://keras.io/optimizers/\n",
    "- Doc (losses): https://keras.io/losses/"
   ]
  },
  {
   "cell_type": "code",
   "execution_count": 45,
   "metadata": {},
   "outputs": [],
   "source": [
    "from keras import optimizers"
   ]
  },
  {
   "cell_type": "code",
   "execution_count": 46,
   "metadata": {},
   "outputs": [],
   "source": [
    "sgd = optimizers.SGD(lr = 0.01)    # stochastic gradient descent optimizer"
   ]
  },
  {
   "cell_type": "code",
   "execution_count": 47,
   "metadata": {},
   "outputs": [],
   "source": [
    "model.compile(optimizer = sgd, loss = 'binary_crossentropy', metrics = ['accuracy'])"
   ]
  },
  {
   "cell_type": "markdown",
   "metadata": {},
   "source": [
    "## Summary of the model"
   ]
  },
  {
   "cell_type": "code",
   "execution_count": 48,
   "metadata": {},
   "outputs": [
    {
     "name": "stdout",
     "output_type": "stream",
     "text": [
      "Model: \"sequential_2\"\n",
      "_________________________________________________________________\n",
      "Layer (type)                 Output Shape              Param #   \n",
      "=================================================================\n",
      "dense_9 (Dense)              (None, 10)                310       \n",
      "_________________________________________________________________\n",
      "activation_4 (Activation)    (None, 10)                0         \n",
      "_________________________________________________________________\n",
      "dense_10 (Dense)             (None, 10)                110       \n",
      "_________________________________________________________________\n",
      "activation_5 (Activation)    (None, 10)                0         \n",
      "_________________________________________________________________\n",
      "dense_11 (Dense)             (None, 10)                110       \n",
      "_________________________________________________________________\n",
      "activation_6 (Activation)    (None, 10)                0         \n",
      "_________________________________________________________________\n",
      "dense_12 (Dense)             (None, 1)                 11        \n",
      "_________________________________________________________________\n",
      "activation_7 (Activation)    (None, 1)                 0         \n",
      "_________________________________________________________________\n",
      "dense_13 (Dense)             (None, 10)                20        \n",
      "_________________________________________________________________\n",
      "dense_14 (Dense)             (None, 10)                110       \n",
      "_________________________________________________________________\n",
      "dense_15 (Dense)             (None, 10)                110       \n",
      "_________________________________________________________________\n",
      "dense_16 (Dense)             (None, 1)                 11        \n",
      "=================================================================\n",
      "Total params: 792\n",
      "Trainable params: 792\n",
      "Non-trainable params: 0\n",
      "_________________________________________________________________\n"
     ]
    }
   ],
   "source": [
    "model.summary()"
   ]
  },
  {
   "cell_type": "markdown",
   "metadata": {},
   "source": [
    "## 2. Training\n",
    "- Training the model with training data provided"
   ]
  },
  {
   "cell_type": "code",
   "execution_count": 50,
   "metadata": {},
   "outputs": [
    {
     "name": "stdout",
     "output_type": "stream",
     "text": [
      "Epoch 1/100\n",
      "398/398 [==============================] - 1s 1ms/step - loss: 0.6833 - accuracy: 0.6055\n",
      "Epoch 2/100\n",
      "398/398 [==============================] - 0s 58us/step - loss: 0.6814 - accuracy: 0.6055\n",
      "Epoch 3/100\n",
      "398/398 [==============================] - 0s 50us/step - loss: 0.6797 - accuracy: 0.6055\n",
      "Epoch 4/100\n",
      "398/398 [==============================] - 0s 48us/step - loss: 0.6784 - accuracy: 0.6055\n",
      "Epoch 5/100\n",
      "398/398 [==============================] - 0s 48us/step - loss: 0.6773 - accuracy: 0.6055\n",
      "Epoch 6/100\n",
      "398/398 [==============================] - 0s 45us/step - loss: 0.6762 - accuracy: 0.6055\n",
      "Epoch 7/100\n",
      "398/398 [==============================] - 0s 48us/step - loss: 0.6754 - accuracy: 0.6055\n",
      "Epoch 8/100\n",
      "398/398 [==============================] - 0s 45us/step - loss: 0.6746 - accuracy: 0.6055\n",
      "Epoch 9/100\n",
      "398/398 [==============================] - 0s 45us/step - loss: 0.6740 - accuracy: 0.6055\n",
      "Epoch 10/100\n",
      "398/398 [==============================] - 0s 45us/step - loss: 0.6735 - accuracy: 0.6055\n",
      "Epoch 11/100\n",
      "398/398 [==============================] - 0s 48us/step - loss: 0.6731 - accuracy: 0.6055\n",
      "Epoch 12/100\n",
      "398/398 [==============================] - 0s 43us/step - loss: 0.6727 - accuracy: 0.6055\n",
      "Epoch 13/100\n",
      "398/398 [==============================] - 0s 48us/step - loss: 0.6724 - accuracy: 0.6055\n",
      "Epoch 14/100\n",
      "398/398 [==============================] - 0s 50us/step - loss: 0.6722 - accuracy: 0.6055\n",
      "Epoch 15/100\n",
      "398/398 [==============================] - 0s 45us/step - loss: 0.6720 - accuracy: 0.6055\n",
      "Epoch 16/100\n",
      "398/398 [==============================] - 0s 50us/step - loss: 0.6718 - accuracy: 0.6055\n",
      "Epoch 17/100\n",
      "398/398 [==============================] - 0s 45us/step - loss: 0.6717 - accuracy: 0.6055\n",
      "Epoch 18/100\n",
      "398/398 [==============================] - 0s 50us/step - loss: 0.6715 - accuracy: 0.6055\n",
      "Epoch 19/100\n",
      "398/398 [==============================] - 0s 48us/step - loss: 0.6714 - accuracy: 0.6055\n",
      "Epoch 20/100\n",
      "398/398 [==============================] - 0s 45us/step - loss: 0.6714 - accuracy: 0.6055\n",
      "Epoch 21/100\n",
      "398/398 [==============================] - 0s 53us/step - loss: 0.6713 - accuracy: 0.6055\n",
      "Epoch 22/100\n",
      "398/398 [==============================] - 0s 50us/step - loss: 0.6711 - accuracy: 0.6055\n",
      "Epoch 23/100\n",
      "398/398 [==============================] - 0s 50us/step - loss: 0.6710 - accuracy: 0.6055\n",
      "Epoch 24/100\n",
      "398/398 [==============================] - 0s 53us/step - loss: 0.6711 - accuracy: 0.6055\n",
      "Epoch 25/100\n",
      "398/398 [==============================] - 0s 48us/step - loss: 0.6710 - accuracy: 0.6055\n",
      "Epoch 26/100\n",
      "398/398 [==============================] - 0s 48us/step - loss: 0.6710 - accuracy: 0.6055\n",
      "Epoch 27/100\n",
      "398/398 [==============================] - 0s 60us/step - loss: 0.6710 - accuracy: 0.6055\n",
      "Epoch 28/100\n",
      "398/398 [==============================] - 0s 50us/step - loss: 0.6710 - accuracy: 0.6055\n",
      "Epoch 29/100\n",
      "398/398 [==============================] - 0s 48us/step - loss: 0.6708 - accuracy: 0.6055\n",
      "Epoch 30/100\n",
      "398/398 [==============================] - ETA: 0s - loss: 0.6571 - accuracy: 0.64 - 0s 53us/step - loss: 0.6708 - accuracy: 0.6055\n",
      "Epoch 31/100\n",
      "398/398 [==============================] - 0s 53us/step - loss: 0.6708 - accuracy: 0.6055\n",
      "Epoch 32/100\n",
      "398/398 [==============================] - 0s 53us/step - loss: 0.6708 - accuracy: 0.6055\n",
      "Epoch 33/100\n",
      "398/398 [==============================] - 0s 50us/step - loss: 0.6709 - accuracy: 0.6055\n",
      "Epoch 34/100\n",
      "398/398 [==============================] - 0s 50us/step - loss: 0.6708 - accuracy: 0.6055\n",
      "Epoch 35/100\n",
      "398/398 [==============================] - 0s 48us/step - loss: 0.6708 - accuracy: 0.6055\n",
      "Epoch 36/100\n",
      "398/398 [==============================] - 0s 50us/step - loss: 0.6709 - accuracy: 0.6055\n",
      "Epoch 37/100\n",
      "398/398 [==============================] - 0s 50us/step - loss: 0.6709 - accuracy: 0.6055\n",
      "Epoch 38/100\n",
      "398/398 [==============================] - 0s 48us/step - loss: 0.6709 - accuracy: 0.6055\n",
      "Epoch 39/100\n",
      "398/398 [==============================] - 0s 48us/step - loss: 0.6708 - accuracy: 0.6055\n",
      "Epoch 40/100\n",
      "398/398 [==============================] - 0s 60us/step - loss: 0.6709 - accuracy: 0.6055\n",
      "Epoch 41/100\n",
      "398/398 [==============================] - 0s 55us/step - loss: 0.6708 - accuracy: 0.6055\n",
      "Epoch 42/100\n",
      "398/398 [==============================] - 0s 58us/step - loss: 0.6708 - accuracy: 0.6055\n",
      "Epoch 43/100\n",
      "398/398 [==============================] - 0s 70us/step - loss: 0.6708 - accuracy: 0.6055\n",
      "Epoch 44/100\n",
      "398/398 [==============================] - ETA: 0s - loss: 0.6395 - accuracy: 0.68 - 0s 65us/step - loss: 0.6708 - accuracy: 0.6055\n",
      "Epoch 45/100\n",
      "398/398 [==============================] - 0s 63us/step - loss: 0.6708 - accuracy: 0.6055\n",
      "Epoch 46/100\n",
      "398/398 [==============================] - 0s 63us/step - loss: 0.6708 - accuracy: 0.6055\n",
      "Epoch 47/100\n",
      "398/398 [==============================] - 0s 63us/step - loss: 0.6708 - accuracy: 0.6055\n",
      "Epoch 48/100\n",
      "398/398 [==============================] - 0s 60us/step - loss: 0.6708 - accuracy: 0.6055\n",
      "Epoch 49/100\n",
      "398/398 [==============================] - 0s 48us/step - loss: 0.6708 - accuracy: 0.6055\n",
      "Epoch 50/100\n",
      "398/398 [==============================] - 0s 70us/step - loss: 0.6707 - accuracy: 0.6055\n",
      "Epoch 51/100\n",
      "398/398 [==============================] - 0s 55us/step - loss: 0.6708 - accuracy: 0.6055\n",
      "Epoch 52/100\n",
      "398/398 [==============================] - 0s 53us/step - loss: 0.6708 - accuracy: 0.6055\n",
      "Epoch 53/100\n",
      "398/398 [==============================] - 0s 48us/step - loss: 0.6708 - accuracy: 0.6055\n",
      "Epoch 54/100\n",
      "398/398 [==============================] - 0s 50us/step - loss: 0.6708 - accuracy: 0.6055\n",
      "Epoch 55/100\n",
      "398/398 [==============================] - 0s 53us/step - loss: 0.6708 - accuracy: 0.6055\n",
      "Epoch 56/100\n",
      "398/398 [==============================] - 0s 45us/step - loss: 0.6708 - accuracy: 0.6055\n",
      "Epoch 57/100\n",
      "398/398 [==============================] - 0s 45us/step - loss: 0.6708 - accuracy: 0.6055\n",
      "Epoch 58/100\n",
      "398/398 [==============================] - 0s 45us/step - loss: 0.6708 - accuracy: 0.6055\n",
      "Epoch 59/100\n",
      "398/398 [==============================] - 0s 48us/step - loss: 0.6708 - accuracy: 0.6055\n",
      "Epoch 60/100\n",
      "398/398 [==============================] - 0s 45us/step - loss: 0.6708 - accuracy: 0.6055\n",
      "Epoch 61/100\n",
      "398/398 [==============================] - 0s 43us/step - loss: 0.6708 - accuracy: 0.6055\n",
      "Epoch 62/100\n",
      "398/398 [==============================] - 0s 48us/step - loss: 0.6709 - accuracy: 0.6055\n",
      "Epoch 63/100\n",
      "398/398 [==============================] - 0s 48us/step - loss: 0.6708 - accuracy: 0.6055\n",
      "Epoch 64/100\n",
      "398/398 [==============================] - 0s 50us/step - loss: 0.6708 - accuracy: 0.6055\n",
      "Epoch 65/100\n",
      "398/398 [==============================] - 0s 48us/step - loss: 0.6709 - accuracy: 0.6055\n",
      "Epoch 66/100\n",
      "398/398 [==============================] - 0s 45us/step - loss: 0.6708 - accuracy: 0.6055\n",
      "Epoch 67/100\n",
      "398/398 [==============================] - 0s 50us/step - loss: 0.6707 - accuracy: 0.6055\n",
      "Epoch 68/100\n",
      "398/398 [==============================] - 0s 50us/step - loss: 0.6707 - accuracy: 0.6055\n",
      "Epoch 69/100\n",
      "398/398 [==============================] - 0s 70us/step - loss: 0.6708 - accuracy: 0.6055\n",
      "Epoch 70/100\n",
      "398/398 [==============================] - 0s 78us/step - loss: 0.6708 - accuracy: 0.6055\n",
      "Epoch 71/100\n",
      "398/398 [==============================] - 0s 68us/step - loss: 0.6708 - accuracy: 0.6055\n",
      "Epoch 72/100\n",
      "398/398 [==============================] - 0s 60us/step - loss: 0.6707 - accuracy: 0.6055\n",
      "Epoch 73/100\n",
      "398/398 [==============================] - 0s 55us/step - loss: 0.6709 - accuracy: 0.6055\n",
      "Epoch 74/100\n",
      "398/398 [==============================] - 0s 63us/step - loss: 0.6708 - accuracy: 0.6055\n",
      "Epoch 75/100\n",
      "398/398 [==============================] - 0s 65us/step - loss: 0.6708 - accuracy: 0.6055\n",
      "Epoch 76/100\n",
      "398/398 [==============================] - 0s 53us/step - loss: 0.6708 - accuracy: 0.6055\n",
      "Epoch 77/100\n",
      "398/398 [==============================] - 0s 48us/step - loss: 0.6708 - accuracy: 0.6055\n",
      "Epoch 78/100\n",
      "398/398 [==============================] - 0s 48us/step - loss: 0.6708 - accuracy: 0.6055\n",
      "Epoch 79/100\n"
     ]
    },
    {
     "name": "stdout",
     "output_type": "stream",
     "text": [
      "398/398 [==============================] - 0s 50us/step - loss: 0.6707 - accuracy: 0.6055\n",
      "Epoch 80/100\n",
      "398/398 [==============================] - 0s 48us/step - loss: 0.6708 - accuracy: 0.6055\n",
      "Epoch 81/100\n",
      "398/398 [==============================] - 0s 48us/step - loss: 0.6708 - accuracy: 0.6055\n",
      "Epoch 82/100\n",
      "398/398 [==============================] - 0s 45us/step - loss: 0.6707 - accuracy: 0.6055\n",
      "Epoch 83/100\n",
      "398/398 [==============================] - 0s 43us/step - loss: 0.6708 - accuracy: 0.6055\n",
      "Epoch 84/100\n",
      "398/398 [==============================] - 0s 43us/step - loss: 0.6708 - accuracy: 0.6055\n",
      "Epoch 85/100\n",
      "398/398 [==============================] - 0s 45us/step - loss: 0.6708 - accuracy: 0.6055\n",
      "Epoch 86/100\n",
      "398/398 [==============================] - 0s 50us/step - loss: 0.6708 - accuracy: 0.6055\n",
      "Epoch 87/100\n",
      "398/398 [==============================] - 0s 60us/step - loss: 0.6708 - accuracy: 0.6055\n",
      "Epoch 88/100\n",
      "398/398 [==============================] - 0s 50us/step - loss: 0.6708 - accuracy: 0.6055\n",
      "Epoch 89/100\n",
      "398/398 [==============================] - 0s 55us/step - loss: 0.6707 - accuracy: 0.6055\n",
      "Epoch 90/100\n",
      "398/398 [==============================] - 0s 58us/step - loss: 0.6707 - accuracy: 0.6055\n",
      "Epoch 91/100\n",
      "398/398 [==============================] - 0s 75us/step - loss: 0.6708 - accuracy: 0.6055\n",
      "Epoch 92/100\n",
      "398/398 [==============================] - 0s 60us/step - loss: 0.6707 - accuracy: 0.6055\n",
      "Epoch 93/100\n",
      "398/398 [==============================] - 0s 55us/step - loss: 0.6708 - accuracy: 0.6055\n",
      "Epoch 94/100\n",
      "398/398 [==============================] - 0s 60us/step - loss: 0.6709 - accuracy: 0.6055\n",
      "Epoch 95/100\n",
      "398/398 [==============================] - 0s 58us/step - loss: 0.6707 - accuracy: 0.6055\n",
      "Epoch 96/100\n",
      "398/398 [==============================] - 0s 50us/step - loss: 0.6708 - accuracy: 0.6055\n",
      "Epoch 97/100\n",
      "398/398 [==============================] - 0s 43us/step - loss: 0.6709 - accuracy: 0.6055\n",
      "Epoch 98/100\n",
      "398/398 [==============================] - 0s 43us/step - loss: 0.6708 - accuracy: 0.6055\n",
      "Epoch 99/100\n",
      "398/398 [==============================] - 0s 40us/step - loss: 0.6708 - accuracy: 0.6055\n",
      "Epoch 100/100\n",
      "398/398 [==============================] - 0s 43us/step - loss: 0.6707 - accuracy: 0.6055\n"
     ]
    },
    {
     "data": {
      "text/plain": [
       "<keras.callbacks.callbacks.History at 0x2548cec3f48>"
      ]
     },
     "execution_count": 50,
     "metadata": {},
     "output_type": "execute_result"
    }
   ],
   "source": [
    "model.fit(x_train, y_train, batch_size = 50, epochs = 100, verbose = 1)"
   ]
  },
  {
   "cell_type": "markdown",
   "metadata": {},
   "source": [
    "## 3. Evaluation\n",
    "- Keras model can be evaluated with evaluate() function\n",
    "- Evaluation results are contained in a list\n",
    "- Doc (metrics): https://keras.io/metrics/"
   ]
  },
  {
   "cell_type": "code",
   "execution_count": 51,
   "metadata": {},
   "outputs": [
    {
     "name": "stdout",
     "output_type": "stream",
     "text": [
      "171/171 [==============================] - 0s 472us/step\n"
     ]
    }
   ],
   "source": [
    "results = model.evaluate(x_test, y_test)"
   ]
  },
  {
   "cell_type": "code",
   "execution_count": 52,
   "metadata": {},
   "outputs": [
    {
     "name": "stdout",
     "output_type": "stream",
     "text": [
      "['loss', 'accuracy']\n",
      "[0.6394409505944503, 0.6783625483512878]\n"
     ]
    }
   ],
   "source": [
    "\n",
    "print(model.metrics_names)     # list of metric names the model is employing\n",
    "print(results)                 # actual figure of metrics computed"
   ]
  },
  {
   "cell_type": "code",
   "execution_count": 53,
   "metadata": {},
   "outputs": [
    {
     "name": "stdout",
     "output_type": "stream",
     "text": [
      "loss:  0.6394409505944503\n",
      "accuracy:  0.6783625483512878\n"
     ]
    }
   ],
   "source": [
    "print('loss: ', results[0])\n",
    "print('accuracy: ', results[1])"
   ]
  },
  {
   "cell_type": "code",
   "execution_count": null,
   "metadata": {},
   "outputs": [],
   "source": []
  }
 ],
 "metadata": {
  "kernelspec": {
   "display_name": "Python 3",
   "language": "python",
   "name": "python3"
  },
  "language_info": {
   "codemirror_mode": {
    "name": "ipython",
    "version": 3
   },
   "file_extension": ".py",
   "mimetype": "text/x-python",
   "name": "python",
   "nbconvert_exporter": "python",
   "pygments_lexer": "ipython3",
   "version": "3.7.4"
  }
 },
 "nbformat": 4,
 "nbformat_minor": 2
}
